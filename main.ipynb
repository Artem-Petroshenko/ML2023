{
  "cells": [
    {
      "cell_type": "markdown",
      "source": [
        "## Загрузка библиотек"
      ],
      "metadata": {
        "id": "mDR8Mahw5UjZ"
      }
    },
    {
      "cell_type": "code",
      "source": [
        "!pip install faiss-cpu"
      ],
      "metadata": {
        "colab": {
          "base_uri": "https://localhost:8080/"
        },
        "id": "epa79Qfty0Sf",
        "outputId": "60e1303e-4ced-43b6-ca31-1d9aa7e53cfe"
      },
      "execution_count": 7,
      "outputs": [
        {
          "output_type": "stream",
          "name": "stdout",
          "text": [
            "Collecting faiss-cpu\n",
            "  Downloading faiss_cpu-1.8.0-cp310-cp310-manylinux_2_17_x86_64.manylinux2014_x86_64.whl (27.0 MB)\n",
            "\u001b[2K     \u001b[90m━━━━━━━━━━━━━━━━━━━━━━━━━━━━━━━━━━━━━━━━\u001b[0m \u001b[32m27.0/27.0 MB\u001b[0m \u001b[31m54.0 MB/s\u001b[0m eta \u001b[36m0:00:00\u001b[0m\n",
            "\u001b[?25hRequirement already satisfied: numpy in /usr/local/lib/python3.10/dist-packages (from faiss-cpu) (1.25.2)\n",
            "Installing collected packages: faiss-cpu\n",
            "Successfully installed faiss-cpu-1.8.0\n"
          ]
        }
      ]
    },
    {
      "cell_type": "code",
      "execution_count": 8,
      "metadata": {
        "id": "NMFsxsYz4u_c",
        "outputId": "b7c6d354-30f5-496b-9a95-e1888444c34c",
        "colab": {
          "base_uri": "https://localhost:8080/"
        }
      },
      "outputs": [
        {
          "output_type": "stream",
          "name": "stdout",
          "text": [
            "\u001b[2K     \u001b[90m━━━━━━━━━━━━━━━━━━━━━━━━━━━━━━━━━━━━━━━━\u001b[0m \u001b[32m142.1/142.1 MB\u001b[0m \u001b[31m4.6 MB/s\u001b[0m eta \u001b[36m0:00:00\u001b[0m\n",
            "\u001b[2K     \u001b[90m━━━━━━━━━━━━━━━━━━━━━━━━━━━━━━━━━━━━━━━━\u001b[0m \u001b[32m2.0/2.0 MB\u001b[0m \u001b[31m31.9 MB/s\u001b[0m eta \u001b[36m0:00:00\u001b[0m\n",
            "\u001b[2K     \u001b[90m━━━━━━━━━━━━━━━━━━━━━━━━━━━━━━━━━━━━━━━━\u001b[0m \u001b[32m1.5/1.5 MB\u001b[0m \u001b[31m21.0 MB/s\u001b[0m eta \u001b[36m0:00:00\u001b[0m\n",
            "\u001b[2K     \u001b[90m━━━━━━━━━━━━━━━━━━━━━━━━━━━━━━━━━━━━━━━━\u001b[0m \u001b[32m188.7/188.7 kB\u001b[0m \u001b[31m13.3 MB/s\u001b[0m eta \u001b[36m0:00:00\u001b[0m\n",
            "\u001b[?25h  Preparing metadata (setup.py) ... \u001b[?25l\u001b[?25hdone\n",
            "\u001b[2K     \u001b[90m━━━━━━━━━━━━━━━━━━━━━━━━━━━━━━━━━━━━━━━━\u001b[0m \u001b[32m6.8/6.8 MB\u001b[0m \u001b[31m81.5 MB/s\u001b[0m eta \u001b[36m0:00:00\u001b[0m\n",
            "\u001b[2K     \u001b[90m━━━━━━━━━━━━━━━━━━━━━━━━━━━━━━━━━━━━━━━━\u001b[0m \u001b[32m227.4/227.4 kB\u001b[0m \u001b[31m20.8 MB/s\u001b[0m eta \u001b[36m0:00:00\u001b[0m\n",
            "\u001b[2K     \u001b[90m━━━━━━━━━━━━━━━━━━━━━━━━━━━━━━━━━━━━━━━━\u001b[0m \u001b[32m1.8/1.8 MB\u001b[0m \u001b[31m61.7 MB/s\u001b[0m eta \u001b[36m0:00:00\u001b[0m\n",
            "\u001b[2K     \u001b[90m━━━━━━━━━━━━━━━━━━━━━━━━━━━━━━━━━━━━━━━━\u001b[0m \u001b[32m46.0/46.0 kB\u001b[0m \u001b[31m4.1 MB/s\u001b[0m eta \u001b[36m0:00:00\u001b[0m\n",
            "\u001b[2K     \u001b[90m━━━━━━━━━━━━━━━━━━━━━━━━━━━━━━━━━━━━━━━━\u001b[0m \u001b[32m75.6/75.6 kB\u001b[0m \u001b[31m7.7 MB/s\u001b[0m eta \u001b[36m0:00:00\u001b[0m\n",
            "\u001b[2K     \u001b[90m━━━━━━━━━━━━━━━━━━━━━━━━━━━━━━━━━━━━━━━━\u001b[0m \u001b[32m77.8/77.8 kB\u001b[0m \u001b[31m7.5 MB/s\u001b[0m eta \u001b[36m0:00:00\u001b[0m\n",
            "\u001b[2K     \u001b[90m━━━━━━━━━━━━━━━━━━━━━━━━━━━━━━━━━━━━━━━━\u001b[0m \u001b[32m58.3/58.3 kB\u001b[0m \u001b[31m5.5 MB/s\u001b[0m eta \u001b[36m0:00:00\u001b[0m\n",
            "\u001b[2K     \u001b[90m━━━━━━━━━━━━━━━━━━━━━━━━━━━━━━━━━━━━━━━━\u001b[0m \u001b[32m86.8/86.8 kB\u001b[0m \u001b[31m8.1 MB/s\u001b[0m eta \u001b[36m0:00:00\u001b[0m\n",
            "\u001b[?25h  Building wheel for nmslib (setup.py) ... \u001b[?25l\u001b[?25hdone\n"
          ]
        }
      ],
      "source": [
        "!pip install --quiet -U  pyserini jsonlines fastrank"
      ]
    },
    {
      "cell_type": "markdown",
      "source": [
        "## Извлечение датасета"
      ],
      "metadata": {
        "id": "hjThDCoa5bRP"
      }
    },
    {
      "cell_type": "code",
      "execution_count": 4,
      "metadata": {
        "id": "G6RYE_Fa4kwT",
        "colab": {
          "base_uri": "https://localhost:8080/"
        },
        "outputId": "7c6b0060-ba26-44ce-b680-00741d1c180f"
      },
      "outputs": [
        {
          "output_type": "stream",
          "name": "stdout",
          "text": [
            "Mounted at /content/drive\n"
          ]
        }
      ],
      "source": [
        "from google.colab import drive\n",
        "drive.mount('/content/drive')"
      ]
    },
    {
      "cell_type": "code",
      "execution_count": 5,
      "metadata": {
        "id": "AF5GnzlS4-Ju",
        "colab": {
          "base_uri": "https://localhost:8080/"
        },
        "outputId": "6d3855a5-a4f8-4bda-a82d-47e4a6851534"
      },
      "outputs": [
        {
          "output_type": "stream",
          "name": "stdout",
          "text": [
            "Archive:  data/MSLR-WEB10K.zip\n",
            "   creating: data/mslr/Fold1/\n",
            "  inflating: data/mslr/Fold1/test.txt  \n",
            "  inflating: data/mslr/Fold1/train.txt  \n",
            "  inflating: data/mslr/Fold1/vali.txt  \n",
            "   creating: data/mslr/Fold2/\n",
            "  inflating: data/mslr/Fold2/test.txt  \n",
            "  inflating: data/mslr/Fold2/train.txt  \n",
            "  inflating: data/mslr/Fold2/vali.txt  \n",
            "   creating: data/mslr/Fold3/\n",
            "  inflating: data/mslr/Fold3/test.txt  \n",
            "  inflating: data/mslr/Fold3/train.txt  \n",
            "  inflating: data/mslr/Fold3/vali.txt  \n",
            "   creating: data/mslr/Fold4/\n",
            "  inflating: data/mslr/Fold4/test.txt  \n",
            "  inflating: data/mslr/Fold4/train.txt  \n",
            "  inflating: data/mslr/Fold4/vali.txt  \n",
            "   creating: data/mslr/Fold5/\n",
            "  inflating: data/mslr/Fold5/test.txt  \n",
            "  inflating: data/mslr/Fold5/train.txt  \n",
            "  inflating: data/mslr/Fold5/vali.txt  \n"
          ]
        }
      ],
      "source": [
        "DATA_PATH = './data'\n",
        "!mkdir data\n",
        "!cp /content/drive/MyDrive/dataset/lenta-ru-filtered.csv data\n",
        "!cp /content/drive/MyDrive/dataset/MSLR-WEB10K.zip data/\n",
        "!unzip data/MSLR-WEB10K.zip -d data/mslr"
      ]
    },
    {
      "cell_type": "markdown",
      "metadata": {
        "id": "CHfqawvx4MI5"
      },
      "source": [
        "## Подключение библиотек"
      ]
    },
    {
      "cell_type": "code",
      "execution_count": 9,
      "metadata": {
        "id": "XRnKz3m03_8P"
      },
      "outputs": [],
      "source": [
        "from tqdm.notebook import tqdm\n",
        "import numpy as np\n",
        "import pandas as pd\n",
        "import scipy\n",
        "import json\n",
        "import re\n",
        "import os\n",
        "import jsonlines\n",
        "\n",
        "from fastrank import CDataset, TrainRequest\n",
        "from sklearn.datasets import load_svmlight_file\n",
        "\n",
        "from pyserini.search.lucene import LuceneSearcher"
      ]
    },
    {
      "cell_type": "markdown",
      "metadata": {
        "id": "qaxan7CvX8ba"
      },
      "source": [
        "# Поисковая система"
      ]
    },
    {
      "cell_type": "markdown",
      "metadata": {
        "id": "0HWdFvQx5Z8l"
      },
      "source": [
        "### Загружаем данные"
      ]
    },
    {
      "cell_type": "code",
      "execution_count": 10,
      "metadata": {
        "id": "TiznCaCf5bWv"
      },
      "outputs": [],
      "source": [
        "data = pd.read_csv('data/lenta-ru-filtered.csv')"
      ]
    },
    {
      "cell_type": "code",
      "execution_count": null,
      "metadata": {
        "id": "lh92wdwk5eIL",
        "colab": {
          "base_uri": "https://localhost:8080/",
          "height": 424
        },
        "outputId": "d2bac631-5d47-4b83-c606-344f1bc3c49f"
      },
      "outputs": [
        {
          "output_type": "execute_result",
          "data": {
            "text/plain": [
              "                                                     text      tags   len  \\\n",
              "0       С 1 сентября на всей территории России вводитс...       Все  1654   \n",
              "1       По сведениям миссии ООН, передаваемым РИА \"Нов...       Все  1086   \n",
              "2       15 представителей национал-большевистской парт...       Все  1219   \n",
              "3       Намеченная на сегодняшний день церемония вступ...       Все  3094   \n",
              "4       На юге Киргизии, а именно в Баткенском и Чон-А...       Все  1354   \n",
              "...                                                   ...       ...   ...   \n",
              "863280  Популярное место среди туристов в Мурманской о...    Россия  1231   \n",
              "863281  Рейтинги от международного рейтингового агентс...       NaN  1425   \n",
              "863282  Российские ученые нашли в Якутии новый подвид ...   События  1299   \n",
              "863283  Для указания коронавируса как причины смерти ч...  Общество  2061   \n",
              "863284  Президент США Дональд Трамп стал посредником в...  Политика  1020   \n",
              "\n",
              "              date  \n",
              "0       31-08-1999  \n",
              "1       31-08-1999  \n",
              "2       31-08-1999  \n",
              "3       31-08-1999  \n",
              "4       31-08-1999  \n",
              "...            ...  \n",
              "863280  11-09-2020  \n",
              "863281  11-09-2020  \n",
              "863282  11-09-2020  \n",
              "863283  11-09-2020  \n",
              "863284  11-09-2020  \n",
              "\n",
              "[863285 rows x 4 columns]"
            ],
            "text/html": [
              "\n",
              "  <div id=\"df-c55f1028-84aa-4cb7-ac1c-10ad14c5f94c\" class=\"colab-df-container\">\n",
              "    <div>\n",
              "<style scoped>\n",
              "    .dataframe tbody tr th:only-of-type {\n",
              "        vertical-align: middle;\n",
              "    }\n",
              "\n",
              "    .dataframe tbody tr th {\n",
              "        vertical-align: top;\n",
              "    }\n",
              "\n",
              "    .dataframe thead th {\n",
              "        text-align: right;\n",
              "    }\n",
              "</style>\n",
              "<table border=\"1\" class=\"dataframe\">\n",
              "  <thead>\n",
              "    <tr style=\"text-align: right;\">\n",
              "      <th></th>\n",
              "      <th>text</th>\n",
              "      <th>tags</th>\n",
              "      <th>len</th>\n",
              "      <th>date</th>\n",
              "    </tr>\n",
              "  </thead>\n",
              "  <tbody>\n",
              "    <tr>\n",
              "      <th>0</th>\n",
              "      <td>С 1 сентября на всей территории России вводитс...</td>\n",
              "      <td>Все</td>\n",
              "      <td>1654</td>\n",
              "      <td>31-08-1999</td>\n",
              "    </tr>\n",
              "    <tr>\n",
              "      <th>1</th>\n",
              "      <td>По сведениям миссии ООН, передаваемым РИА \"Нов...</td>\n",
              "      <td>Все</td>\n",
              "      <td>1086</td>\n",
              "      <td>31-08-1999</td>\n",
              "    </tr>\n",
              "    <tr>\n",
              "      <th>2</th>\n",
              "      <td>15 представителей национал-большевистской парт...</td>\n",
              "      <td>Все</td>\n",
              "      <td>1219</td>\n",
              "      <td>31-08-1999</td>\n",
              "    </tr>\n",
              "    <tr>\n",
              "      <th>3</th>\n",
              "      <td>Намеченная на сегодняшний день церемония вступ...</td>\n",
              "      <td>Все</td>\n",
              "      <td>3094</td>\n",
              "      <td>31-08-1999</td>\n",
              "    </tr>\n",
              "    <tr>\n",
              "      <th>4</th>\n",
              "      <td>На юге Киргизии, а именно в Баткенском и Чон-А...</td>\n",
              "      <td>Все</td>\n",
              "      <td>1354</td>\n",
              "      <td>31-08-1999</td>\n",
              "    </tr>\n",
              "    <tr>\n",
              "      <th>...</th>\n",
              "      <td>...</td>\n",
              "      <td>...</td>\n",
              "      <td>...</td>\n",
              "      <td>...</td>\n",
              "    </tr>\n",
              "    <tr>\n",
              "      <th>863280</th>\n",
              "      <td>Популярное место среди туристов в Мурманской о...</td>\n",
              "      <td>Россия</td>\n",
              "      <td>1231</td>\n",
              "      <td>11-09-2020</td>\n",
              "    </tr>\n",
              "    <tr>\n",
              "      <th>863281</th>\n",
              "      <td>Рейтинги от международного рейтингового агентс...</td>\n",
              "      <td>NaN</td>\n",
              "      <td>1425</td>\n",
              "      <td>11-09-2020</td>\n",
              "    </tr>\n",
              "    <tr>\n",
              "      <th>863282</th>\n",
              "      <td>Российские ученые нашли в Якутии новый подвид ...</td>\n",
              "      <td>События</td>\n",
              "      <td>1299</td>\n",
              "      <td>11-09-2020</td>\n",
              "    </tr>\n",
              "    <tr>\n",
              "      <th>863283</th>\n",
              "      <td>Для указания коронавируса как причины смерти ч...</td>\n",
              "      <td>Общество</td>\n",
              "      <td>2061</td>\n",
              "      <td>11-09-2020</td>\n",
              "    </tr>\n",
              "    <tr>\n",
              "      <th>863284</th>\n",
              "      <td>Президент США Дональд Трамп стал посредником в...</td>\n",
              "      <td>Политика</td>\n",
              "      <td>1020</td>\n",
              "      <td>11-09-2020</td>\n",
              "    </tr>\n",
              "  </tbody>\n",
              "</table>\n",
              "<p>863285 rows × 4 columns</p>\n",
              "</div>\n",
              "    <div class=\"colab-df-buttons\">\n",
              "\n",
              "  <div class=\"colab-df-container\">\n",
              "    <button class=\"colab-df-convert\" onclick=\"convertToInteractive('df-c55f1028-84aa-4cb7-ac1c-10ad14c5f94c')\"\n",
              "            title=\"Convert this dataframe to an interactive table.\"\n",
              "            style=\"display:none;\">\n",
              "\n",
              "  <svg xmlns=\"http://www.w3.org/2000/svg\" height=\"24px\" viewBox=\"0 -960 960 960\">\n",
              "    <path d=\"M120-120v-720h720v720H120Zm60-500h600v-160H180v160Zm220 220h160v-160H400v160Zm0 220h160v-160H400v160ZM180-400h160v-160H180v160Zm440 0h160v-160H620v160ZM180-180h160v-160H180v160Zm440 0h160v-160H620v160Z\"/>\n",
              "  </svg>\n",
              "    </button>\n",
              "\n",
              "  <style>\n",
              "    .colab-df-container {\n",
              "      display:flex;\n",
              "      gap: 12px;\n",
              "    }\n",
              "\n",
              "    .colab-df-convert {\n",
              "      background-color: #E8F0FE;\n",
              "      border: none;\n",
              "      border-radius: 50%;\n",
              "      cursor: pointer;\n",
              "      display: none;\n",
              "      fill: #1967D2;\n",
              "      height: 32px;\n",
              "      padding: 0 0 0 0;\n",
              "      width: 32px;\n",
              "    }\n",
              "\n",
              "    .colab-df-convert:hover {\n",
              "      background-color: #E2EBFA;\n",
              "      box-shadow: 0px 1px 2px rgba(60, 64, 67, 0.3), 0px 1px 3px 1px rgba(60, 64, 67, 0.15);\n",
              "      fill: #174EA6;\n",
              "    }\n",
              "\n",
              "    .colab-df-buttons div {\n",
              "      margin-bottom: 4px;\n",
              "    }\n",
              "\n",
              "    [theme=dark] .colab-df-convert {\n",
              "      background-color: #3B4455;\n",
              "      fill: #D2E3FC;\n",
              "    }\n",
              "\n",
              "    [theme=dark] .colab-df-convert:hover {\n",
              "      background-color: #434B5C;\n",
              "      box-shadow: 0px 1px 3px 1px rgba(0, 0, 0, 0.15);\n",
              "      filter: drop-shadow(0px 1px 2px rgba(0, 0, 0, 0.3));\n",
              "      fill: #FFFFFF;\n",
              "    }\n",
              "  </style>\n",
              "\n",
              "    <script>\n",
              "      const buttonEl =\n",
              "        document.querySelector('#df-c55f1028-84aa-4cb7-ac1c-10ad14c5f94c button.colab-df-convert');\n",
              "      buttonEl.style.display =\n",
              "        google.colab.kernel.accessAllowed ? 'block' : 'none';\n",
              "\n",
              "      async function convertToInteractive(key) {\n",
              "        const element = document.querySelector('#df-c55f1028-84aa-4cb7-ac1c-10ad14c5f94c');\n",
              "        const dataTable =\n",
              "          await google.colab.kernel.invokeFunction('convertToInteractive',\n",
              "                                                    [key], {});\n",
              "        if (!dataTable) return;\n",
              "\n",
              "        const docLinkHtml = 'Like what you see? Visit the ' +\n",
              "          '<a target=\"_blank\" href=https://colab.research.google.com/notebooks/data_table.ipynb>data table notebook</a>'\n",
              "          + ' to learn more about interactive tables.';\n",
              "        element.innerHTML = '';\n",
              "        dataTable['output_type'] = 'display_data';\n",
              "        await google.colab.output.renderOutput(dataTable, element);\n",
              "        const docLink = document.createElement('div');\n",
              "        docLink.innerHTML = docLinkHtml;\n",
              "        element.appendChild(docLink);\n",
              "      }\n",
              "    </script>\n",
              "  </div>\n",
              "\n",
              "\n",
              "<div id=\"df-1077fefd-ed3a-447f-a766-fc4f874e60c4\">\n",
              "  <button class=\"colab-df-quickchart\" onclick=\"quickchart('df-1077fefd-ed3a-447f-a766-fc4f874e60c4')\"\n",
              "            title=\"Suggest charts\"\n",
              "            style=\"display:none;\">\n",
              "\n",
              "<svg xmlns=\"http://www.w3.org/2000/svg\" height=\"24px\"viewBox=\"0 0 24 24\"\n",
              "     width=\"24px\">\n",
              "    <g>\n",
              "        <path d=\"M19 3H5c-1.1 0-2 .9-2 2v14c0 1.1.9 2 2 2h14c1.1 0 2-.9 2-2V5c0-1.1-.9-2-2-2zM9 17H7v-7h2v7zm4 0h-2V7h2v10zm4 0h-2v-4h2v4z\"/>\n",
              "    </g>\n",
              "</svg>\n",
              "  </button>\n",
              "\n",
              "<style>\n",
              "  .colab-df-quickchart {\n",
              "      --bg-color: #E8F0FE;\n",
              "      --fill-color: #1967D2;\n",
              "      --hover-bg-color: #E2EBFA;\n",
              "      --hover-fill-color: #174EA6;\n",
              "      --disabled-fill-color: #AAA;\n",
              "      --disabled-bg-color: #DDD;\n",
              "  }\n",
              "\n",
              "  [theme=dark] .colab-df-quickchart {\n",
              "      --bg-color: #3B4455;\n",
              "      --fill-color: #D2E3FC;\n",
              "      --hover-bg-color: #434B5C;\n",
              "      --hover-fill-color: #FFFFFF;\n",
              "      --disabled-bg-color: #3B4455;\n",
              "      --disabled-fill-color: #666;\n",
              "  }\n",
              "\n",
              "  .colab-df-quickchart {\n",
              "    background-color: var(--bg-color);\n",
              "    border: none;\n",
              "    border-radius: 50%;\n",
              "    cursor: pointer;\n",
              "    display: none;\n",
              "    fill: var(--fill-color);\n",
              "    height: 32px;\n",
              "    padding: 0;\n",
              "    width: 32px;\n",
              "  }\n",
              "\n",
              "  .colab-df-quickchart:hover {\n",
              "    background-color: var(--hover-bg-color);\n",
              "    box-shadow: 0 1px 2px rgba(60, 64, 67, 0.3), 0 1px 3px 1px rgba(60, 64, 67, 0.15);\n",
              "    fill: var(--button-hover-fill-color);\n",
              "  }\n",
              "\n",
              "  .colab-df-quickchart-complete:disabled,\n",
              "  .colab-df-quickchart-complete:disabled:hover {\n",
              "    background-color: var(--disabled-bg-color);\n",
              "    fill: var(--disabled-fill-color);\n",
              "    box-shadow: none;\n",
              "  }\n",
              "\n",
              "  .colab-df-spinner {\n",
              "    border: 2px solid var(--fill-color);\n",
              "    border-color: transparent;\n",
              "    border-bottom-color: var(--fill-color);\n",
              "    animation:\n",
              "      spin 1s steps(1) infinite;\n",
              "  }\n",
              "\n",
              "  @keyframes spin {\n",
              "    0% {\n",
              "      border-color: transparent;\n",
              "      border-bottom-color: var(--fill-color);\n",
              "      border-left-color: var(--fill-color);\n",
              "    }\n",
              "    20% {\n",
              "      border-color: transparent;\n",
              "      border-left-color: var(--fill-color);\n",
              "      border-top-color: var(--fill-color);\n",
              "    }\n",
              "    30% {\n",
              "      border-color: transparent;\n",
              "      border-left-color: var(--fill-color);\n",
              "      border-top-color: var(--fill-color);\n",
              "      border-right-color: var(--fill-color);\n",
              "    }\n",
              "    40% {\n",
              "      border-color: transparent;\n",
              "      border-right-color: var(--fill-color);\n",
              "      border-top-color: var(--fill-color);\n",
              "    }\n",
              "    60% {\n",
              "      border-color: transparent;\n",
              "      border-right-color: var(--fill-color);\n",
              "    }\n",
              "    80% {\n",
              "      border-color: transparent;\n",
              "      border-right-color: var(--fill-color);\n",
              "      border-bottom-color: var(--fill-color);\n",
              "    }\n",
              "    90% {\n",
              "      border-color: transparent;\n",
              "      border-bottom-color: var(--fill-color);\n",
              "    }\n",
              "  }\n",
              "</style>\n",
              "\n",
              "  <script>\n",
              "    async function quickchart(key) {\n",
              "      const quickchartButtonEl =\n",
              "        document.querySelector('#' + key + ' button');\n",
              "      quickchartButtonEl.disabled = true;  // To prevent multiple clicks.\n",
              "      quickchartButtonEl.classList.add('colab-df-spinner');\n",
              "      try {\n",
              "        const charts = await google.colab.kernel.invokeFunction(\n",
              "            'suggestCharts', [key], {});\n",
              "      } catch (error) {\n",
              "        console.error('Error during call to suggestCharts:', error);\n",
              "      }\n",
              "      quickchartButtonEl.classList.remove('colab-df-spinner');\n",
              "      quickchartButtonEl.classList.add('colab-df-quickchart-complete');\n",
              "    }\n",
              "    (() => {\n",
              "      let quickchartButtonEl =\n",
              "        document.querySelector('#df-1077fefd-ed3a-447f-a766-fc4f874e60c4 button');\n",
              "      quickchartButtonEl.style.display =\n",
              "        google.colab.kernel.accessAllowed ? 'block' : 'none';\n",
              "    })();\n",
              "  </script>\n",
              "</div>\n",
              "    </div>\n",
              "  </div>\n"
            ],
            "application/vnd.google.colaboratory.intrinsic+json": {
              "type": "dataframe",
              "variable_name": "data"
            }
          },
          "metadata": {},
          "execution_count": 63
        }
      ],
      "source": [
        "data"
      ]
    },
    {
      "cell_type": "markdown",
      "metadata": {
        "id": "Bb5_EauB9xbW"
      },
      "source": [
        "### Генерация документов"
      ]
    },
    {
      "cell_type": "code",
      "execution_count": 11,
      "metadata": {
        "id": "0C-Y_8Od5kC1",
        "colab": {
          "base_uri": "https://localhost:8080/",
          "height": 49,
          "referenced_widgets": [
            "f7d51e1fc3e84f519b3a773a7807dfee",
            "1f9e6160a9ff419990d66fb7ea36a57d",
            "479a754919f14a28b0a6634142805e5e",
            "c4720e422efe4766a7aeb9009ec9d7dd",
            "58ee9558ce614193b7f124105e8fd5b2",
            "496ba32d8a4546b68cfecd4af370e7b0",
            "de9b6e54f7dc4c44a2b7bf85279facbe",
            "7d14f02e3cfa47ffbd574fbad420d0dc",
            "380642f4d56145cdbe810f44ff12d63c",
            "cba30cd003b0475481f20c35853f4030",
            "7e2ef0fc4376418eb2140c121441a517"
          ]
        },
        "outputId": "deee30b6-8bdc-4d54-b9a6-f3bf66959265"
      },
      "outputs": [
        {
          "output_type": "display_data",
          "data": {
            "text/plain": [
              "  0%|          | 0/27 [00:00<?, ?it/s]"
            ],
            "application/vnd.jupyter.widget-view+json": {
              "version_major": 2,
              "version_minor": 0,
              "model_id": "f7d51e1fc3e84f519b3a773a7807dfee"
            }
          },
          "metadata": {}
        }
      ],
      "source": [
        "COLLECTION_DIR = 'data/collection/lenta'\n",
        "if not os.path.exists(COLLECTION_DIR):\n",
        "    os.makedirs(COLLECTION_DIR)\n",
        "\n",
        "collection = data.values\n",
        "\n",
        "bath_size = 32768\n",
        "for ind in tqdm(range(0, len(collection), bath_size)):\n",
        "    files = [{'id': ind+i,\n",
        "              'contents': doc[0],\n",
        "              'tag': doc[1],\n",
        "              'date': doc[-1]}\n",
        "             for i, doc in enumerate(collection[ind:ind+bath_size])]\n",
        "    with jsonlines.open(os.path.join(COLLECTION_DIR,\n",
        "                                     '{}.jsonl'.format(ind)),\n",
        "                        mode='w') as writer:\n",
        "        writer.write_all(files)"
      ]
    },
    {
      "cell_type": "code",
      "execution_count": 12,
      "metadata": {
        "id": "mS-40L1vC1xW",
        "colab": {
          "base_uri": "https://localhost:8080/"
        },
        "outputId": "572f198a-cebb-4cb0-a8db-85d5a3e2d4e0"
      },
      "outputs": [
        {
          "output_type": "stream",
          "name": "stdout",
          "text": [
            "{\"id\": 863280, \"contents\": \"Популярное место среди туристов в Мурманской области завалили мусором и навозом. Об этом сообщает местное издание «Мурманский вестник». По данным портала, речь идет о Лавнинских водопадах в Кольском районе региона, ставших одним из излюбленных мест отдыха северян, где можно «искупаться и сделать красивые фотографии». Местные жители жалуются, что туристы не убирают за собой мусор и пластиковые бутылки, а недавно там появились огромные лужи навоза. «На всем пути к Лавне \\\"аромат\\\" такой, аж оторопь берет... Особое негодование вызывают болотного вида лужи навоза, смердящего и отравляющего воду. А ведь лет пять назад мы набирали чайник прямо из водопада, не боялись отравиться нечистотами», — рассказала жительница района Лиза Титова. Откуда взялся навоз возле водопадов, неизвестно, но люди предполагают, что во всем могут быть виноваты фермеры, сливающие отходы на территорию курорта. В июне сообщалось, что жители английского города Бакстон подговорили фермеров забросать навозом знаменитую голубую лагуну, чтобы отпугнуть от нее толпы приезжих. Местный репортер, побывавший возле лагуны, отметил, что место действительно потеряло былую привлекательность, поскольку уже на подъезде к нему «в нос ударяет отвратительный запах».\", \"tag\": \"Россия\", \"date\": \"11-09-2020\"}\n",
            "{\"id\": 863281, \"contents\": \"Рейтинги от международного рейтингового агентства S&P крупнейших банков Белоруссии — Беларусбанка, Белагропромбанка и Банка БелВЭБ — помещены в список на пересмотр с негативными ожиданиями из-за ряда проблем. Об этом говорится в сообщении организации, которое есть в распоряжении «Ленты.ру». Главной причиной стали ускорившийся отток вкладов и повышенный спрос на валюту, которые, в свою очередь, связаны с ситуацией после президентских выборов. Негативный эффект могут оказать государственные ограничения на хождение иностранной валюты или движение капитала, если их введут, а также отсутствие адекватной поддержки от Нацбанка. Эксперты не исключают быстрого сокращения запасов ликвидности банков. В конце текущего и начале следующего года слабые экономические показатели белорусской экономики могут снизить и прибыльность, и капитализацию указанных банков. Если это произойдет, то все три банка в течение трех месяцев лишатся рейтинга «В». В S&P отмечают, что ситуация в экономике и политическая неопределенность уже привели к обесцениванию курса национальной валюты на 20 процентов по отношению к доллару. В дальнейшем банки могут столкнуться с массовыми неплатежами по кредитам. Запасы капитала белорусских банков оцениваются как низкие по международным стандартам. Ранее о возможности снижения собственных рейтингов Беларусбанка, Белинвестбанка, Белгазпромбанка и БПС-Сбербанка заявили в аналитическом агентстве Moody's,\", \"tag\": NaN, \"date\": \"11-09-2020\"}\n",
            "{\"id\": 863282, \"contents\": \"Российские ученые нашли в Якутии новый подвид арктических бабочек. Об этом ТАСС сообщил профессор кафедры экологии, биохимии и биотехнологии АлтГУ Роман Яковлев. Находка была обнаружена во время экспедиции сотрудников Алтайского государственного университета (АлтГУ) и Зоологического института РАН (Санкт-Петербург). Новую бабочку поймали за полярным кругом, высоко в горах на высоте 1,4 тысячи метров над уровнем моря. «Это огромная высота для тех широт — там фактически нет растительности, одни камни», — уточнил Яковлев. По его словам, обнаружение бабочки можно считать сенсацией, поскольку эта группа насекомых считается хорошо изученной. Он отметил, что открытие стало возможным из-за того, что до сих пор в России есть малоизученные участки, в первую очередь на севере. Новые бабочки внешне похожи на представителей самого редкого вида заполярных бабочек из семейства парусников, но они крупнее, с более продолговатыми крыльями без рисунка и с красными штрихами. В ходе морфологических и генетических анализов были выявлены отличия нового подвида от известных видов Parnassius tenedius и Parnassius arcticus. Новому насекомому дали название Parnassius arcticus arbugaevi в честь директора эколого-этнографического комплекса «Чочур Муран» Германа Арбугаева, который помогал биологам в изучении.\", \"tag\": \"События\", \"date\": \"11-09-2020\"}\n",
            "{\"id\": 863283, \"contents\": \"Для указания коронавируса как причины смерти человека необходимо патологоанатомическое заключение, оно обязательно в случае летального исхода при инфекционном заболевании. Это и другие правила учета смертей от COVID-19 в России перечислены на сайте «Стопкоронавирус.рф». В России в списки умерших попадают только те, у кого главной причиной смерти стал коронавирус, а не уже имеющиеся хронические заболевания, обострившиеся из-за инфекции. Речь идет о разнице формулировок — «смерть от COVID-19», когда коронавирус стал прямой причиной смерти, и «смерть с COVID-19», когда есть подтверждение заражения, но к летальному исходу привели другие причины. В публикации так же сказано, что по итогам вскрытия диагноз «коронавирусная инфекция» может быть поставлен и в том случае, если тест был отрицательным. Как объяснил главный внештатный патологоанатом Минздрава, профессор и академик РАН Георгий Франк, если у человека есть, например, рак желудка с метастазами, и легкая форма коронавируса, то на первое место выходит рак — он приводит к гибели пациента. Может быть и наоборот, когда онкологическое заболевание слабее инфекции, и уходит на второй план. В публикации сказано, что «число умерших — это всегда отсроченное число», потому что коронавирус длится долго и пациент может провести в больнице несколько недель, а исход болезни непредсказуем наверняка. В связи с этим нет смысла считать смертность в момент пика и сравнивать со странами, которые уже прошли пик. На «Стопкоронавирус.рф» уточнили, что ежедневно публикуют только те случаи смерти, в которых коронавирус стал основной причиной. 7 сентября глава Росздравнадзора Алла Самойлова заявила, что в России обнаружили больницы, скрывавшие смертность пациентов от коронавируса. Она объяснила, что в некоторых больницах «практически ноль» летальных случаев преподносились как смертность от COVID-19 — ее переносили на другие заболевания. Глава Минздрава Михаил Мурашко на это ответил, что выводы ведомства не учитывают данные по всей России, так как они были сделаны на основе проверок отдельных учреждений.\", \"tag\": \"Общество\", \"date\": \"11-09-2020\"}\n",
            "{\"id\": 863284, \"contents\": \"Президент США Дональд Трамп стал посредником в новом примирении на Ближнем Востоке: Бахрейн установил дипломатические отношения с Израилем. Об этом американский лидер объявил у себя в Twitter. «Сегодня —  еще один исторический прорыв! Двое наших замечательных друзей, Израиль и Королевство Бахрейн, договорились заключить мир — вторая арабская страна, заключившая мир с Израилем за 30 дней», — написал Трамп. В совместном заявлении страны объявили, что этот шаг позволит дальше двигаться к миру во всем регионе. Как отмечают эксперты Reuters, этот процесс связан с усилением Ирана, которое видится угрозой большинству его соседей по Ближнему Востоку. Ранее 11 сентября стало известно, что Трампа во второй раз за последнее время выдвинули на Нобелевскую премию мира. Один из авторов этой инициативы считает, что американский президент заслуживает ее за примирение Израиля и Объединенных Арабских Эмиратов, другой — что его стоит наградить за нормализацию отношений между Сербией и частично признанной республикой Косово.\", \"tag\": \"Политика\", \"date\": \"11-09-2020\"}\n"
          ]
        }
      ],
      "source": [
        "with open(os.path.join(COLLECTION_DIR,\n",
        "                       '{}.jsonl'.format(ind))) as f:\n",
        "  print('\\n'.join(f.read().splitlines()[-5:]))"
      ]
    },
    {
      "cell_type": "markdown",
      "metadata": {
        "id": "uMJGkfMFFD_u"
      },
      "source": [
        "### Построение индекса"
      ]
    },
    {
      "cell_type": "code",
      "execution_count": 13,
      "metadata": {
        "id": "qmz3rPxHFwmG"
      },
      "outputs": [],
      "source": [
        "INDEX_DIR = 'data/index/lenta'\n",
        "if not os.path.exists(INDEX_DIR):\n",
        "    os.makedirs(INDEX_DIR)"
      ]
    },
    {
      "cell_type": "code",
      "execution_count": 14,
      "metadata": {
        "id": "pn854_EHEsAk",
        "colab": {
          "base_uri": "https://localhost:8080/"
        },
        "outputId": "198968b7-f3ff-407d-be5d-6304a6c1460c"
      },
      "outputs": [
        {
          "output_type": "stream",
          "name": "stdout",
          "text": [
            "WARNING: sun.reflect.Reflection.getCallerClass is not supported. This will impact performance.\n",
            "2024-03-03 22:39:11,850 INFO  [main] index.AbstractIndexer (AbstractIndexer.java:204) - Setting log level to INFO\n",
            "2024-03-03 22:39:11,854 INFO  [main] index.AbstractIndexer (AbstractIndexer.java:207) - ============ Loading Index Configuration ============\n",
            "2024-03-03 22:39:11,854 INFO  [main] index.AbstractIndexer (AbstractIndexer.java:208) - AbstractIndexer settings:\n",
            "2024-03-03 22:39:11,855 INFO  [main] index.AbstractIndexer (AbstractIndexer.java:209) -  + DocumentCollection path: data/collection/lenta\n",
            "2024-03-03 22:39:11,855 INFO  [main] index.AbstractIndexer (AbstractIndexer.java:210) -  + CollectionClass: JsonCollection\n",
            "2024-03-03 22:39:11,856 INFO  [main] index.AbstractIndexer (AbstractIndexer.java:211) -  + Index path: data/index/lenta\n",
            "2024-03-03 22:39:11,856 INFO  [main] index.AbstractIndexer (AbstractIndexer.java:212) -  + Threads: 16\n",
            "2024-03-03 22:39:11,857 INFO  [main] index.AbstractIndexer (AbstractIndexer.java:213) -  + Optimize (merge segments)? false\n",
            "2024-03-03 22:39:11,894 INFO  [main] index.IndexCollection (IndexCollection.java:246) - Using DefaultEnglishAnalyzer\n",
            "2024-03-03 22:39:11,895 INFO  [main] index.IndexCollection (IndexCollection.java:247) - Stemmer: porter\n",
            "2024-03-03 22:39:11,895 INFO  [main] index.IndexCollection (IndexCollection.java:248) - Keep stopwords? false\n",
            "2024-03-03 22:39:11,896 INFO  [main] index.IndexCollection (IndexCollection.java:249) - Stopwords file: null\n",
            "2024-03-03 22:39:12,120 INFO  [main] index.IndexCollection (IndexCollection.java:197) - IndexCollection settings:\n",
            "2024-03-03 22:39:12,120 INFO  [main] index.IndexCollection (IndexCollection.java:198) -  + Generator: DefaultLuceneDocumentGenerator\n",
            "2024-03-03 22:39:12,121 INFO  [main] index.IndexCollection (IndexCollection.java:199) -  + Language: en\n",
            "2024-03-03 22:39:12,122 INFO  [main] index.IndexCollection (IndexCollection.java:200) -  + Stemmer: porter\n",
            "2024-03-03 22:39:12,125 INFO  [main] index.IndexCollection (IndexCollection.java:201) -  + Keep stopwords? false\n",
            "2024-03-03 22:39:12,127 INFO  [main] index.IndexCollection (IndexCollection.java:202) -  + Stopwords: null\n",
            "2024-03-03 22:39:12,128 INFO  [main] index.IndexCollection (IndexCollection.java:203) -  + Store positions? true\n",
            "2024-03-03 22:39:12,129 INFO  [main] index.IndexCollection (IndexCollection.java:204) -  + Store docvectors? true\n",
            "2024-03-03 22:39:12,130 INFO  [main] index.IndexCollection (IndexCollection.java:205) -  + Store document \"contents\" field? false\n",
            "2024-03-03 22:39:12,131 INFO  [main] index.IndexCollection (IndexCollection.java:206) -  + Store document \"raw\" field? true\n",
            "2024-03-03 22:39:12,134 INFO  [main] index.IndexCollection (IndexCollection.java:207) -  + Additional fields to index: []\n",
            "2024-03-03 22:39:12,135 INFO  [main] index.IndexCollection (IndexCollection.java:208) -  + Whitelist: null\n",
            "2024-03-03 22:39:12,137 INFO  [main] index.IndexCollection (IndexCollection.java:209) -  + Pretokenized?: false\n",
            "2024-03-03 22:39:12,140 INFO  [main] index.IndexCollection (IndexCollection.java:210) -  + Codec: Lucene99\n",
            "2024-03-03 22:39:12,140 INFO  [main] index.AbstractIndexer (AbstractIndexer.java:237) - ============ Indexing Collection ============\n",
            "2024-03-03 22:39:12,147 INFO  [main] index.AbstractIndexer (AbstractIndexer.java:246) - Thread pool with 16 threads initialized.\n",
            "2024-03-03 22:39:12,148 INFO  [main] index.AbstractIndexer (AbstractIndexer.java:247) - 27 files found in data/collection/lenta \n",
            "2024-03-03 22:39:12,148 INFO  [main] index.AbstractIndexer (AbstractIndexer.java:248) - Starting to index...\n",
            "2024-03-03 22:39:12,282 ERROR [pool-2-thread-6] index.AbstractIndexer$IndexerThread (AbstractIndexer.java:178) - pool-2-thread-6: Unexpected Exception:\n",
            "2024-03-03 22:39:12,684 ERROR [pool-2-thread-1] index.AbstractIndexer$IndexerThread (AbstractIndexer.java:178) - pool-2-thread-1: Unexpected Exception:\n",
            "2024-03-03 22:39:13,694 ERROR [pool-2-thread-9] index.AbstractIndexer$IndexerThread (AbstractIndexer.java:178) - pool-2-thread-9: Unexpected Exception:\n",
            "2024-03-03 22:39:14,122 ERROR [pool-2-thread-9] index.AbstractIndexer$IndexerThread (AbstractIndexer.java:178) - pool-2-thread-9: Unexpected Exception:\n",
            "2024-03-03 22:39:14,715 ERROR [pool-2-thread-14] index.AbstractIndexer$IndexerThread (AbstractIndexer.java:178) - pool-2-thread-14: Unexpected Exception:\n",
            "2024-03-03 22:39:14,819 ERROR [pool-2-thread-14] index.AbstractIndexer$IndexerThread (AbstractIndexer.java:178) - pool-2-thread-14: Unexpected Exception:\n",
            "2024-03-03 22:39:14,896 ERROR [pool-2-thread-2] index.AbstractIndexer$IndexerThread (AbstractIndexer.java:178) - pool-2-thread-2: Unexpected Exception:\n",
            "2024-03-03 22:39:15,038 ERROR [pool-2-thread-15] index.AbstractIndexer$IndexerThread (AbstractIndexer.java:178) - pool-2-thread-15: Unexpected Exception:\n",
            "2024-03-03 22:39:15,113 ERROR [pool-2-thread-15] index.AbstractIndexer$IndexerThread (AbstractIndexer.java:178) - pool-2-thread-15: Unexpected Exception:\n",
            "2024-03-03 22:39:17,075 ERROR [pool-2-thread-9] index.AbstractIndexer$IndexerThread (AbstractIndexer.java:178) - pool-2-thread-9: Unexpected Exception:\n",
            "2024-03-03 22:39:17,653 ERROR [pool-2-thread-3] index.AbstractIndexer$IndexerThread (AbstractIndexer.java:178) - pool-2-thread-3: Unexpected Exception:\n",
            "2024-03-03 22:39:18,153 ERROR [pool-2-thread-3] index.AbstractIndexer$IndexerThread (AbstractIndexer.java:178) - pool-2-thread-3: Unexpected Exception:\n",
            "2024-03-03 22:39:18,199 ERROR [pool-2-thread-8] index.AbstractIndexer$IndexerThread (AbstractIndexer.java:178) - pool-2-thread-8: Unexpected Exception:\n",
            "2024-03-03 22:39:18,233 ERROR [pool-2-thread-2] index.AbstractIndexer$IndexerThread (AbstractIndexer.java:178) - pool-2-thread-2: Unexpected Exception:\n",
            "2024-03-03 22:39:18,403 ERROR [pool-2-thread-9] index.AbstractIndexer$IndexerThread (AbstractIndexer.java:178) - pool-2-thread-9: Unexpected Exception:\n",
            "2024-03-03 22:39:21,394 ERROR [pool-2-thread-16] index.AbstractIndexer$IndexerThread (AbstractIndexer.java:178) - pool-2-thread-16: Unexpected Exception:\n",
            "2024-03-03 22:39:27,121 ERROR [pool-2-thread-14] index.AbstractIndexer$IndexerThread (AbstractIndexer.java:178) - pool-2-thread-14: Unexpected Exception:\n",
            "2024-03-03 22:39:28,471 ERROR [pool-2-thread-13] index.AbstractIndexer$IndexerThread (AbstractIndexer.java:178) - pool-2-thread-13: Unexpected Exception:\n",
            "2024-03-03 22:39:30,751 ERROR [pool-2-thread-7] index.AbstractIndexer$IndexerThread (AbstractIndexer.java:178) - pool-2-thread-7: Unexpected Exception:\n",
            "2024-03-03 22:39:31,541 ERROR [pool-2-thread-15] index.AbstractIndexer$IndexerThread (AbstractIndexer.java:178) - pool-2-thread-15: Unexpected Exception:\n",
            "2024-03-03 22:39:34,659 ERROR [pool-2-thread-4] index.AbstractIndexer$IndexerThread (AbstractIndexer.java:178) - pool-2-thread-4: Unexpected Exception:\n",
            "2024-03-03 22:39:40,116 ERROR [pool-2-thread-6] index.AbstractIndexer$IndexerThread (AbstractIndexer.java:178) - pool-2-thread-6: Unexpected Exception:\n",
            "2024-03-03 22:39:52,091 ERROR [pool-2-thread-11] index.AbstractIndexer$IndexerThread (AbstractIndexer.java:178) - pool-2-thread-11: Unexpected Exception:\n",
            "2024-03-03 22:40:07,757 ERROR [pool-2-thread-12] index.AbstractIndexer$IndexerThread (AbstractIndexer.java:178) - pool-2-thread-12: Unexpected Exception:\n",
            "2024-03-03 22:40:12,175 INFO  [main] index.AbstractIndexer (AbstractIndexer.java:260) - 88.89% of files completed, 50,000 documents indexed\n",
            "2024-03-03 22:40:14,075 ERROR [pool-2-thread-10] index.AbstractIndexer$IndexerThread (AbstractIndexer.java:178) - pool-2-thread-10: Unexpected Exception:\n",
            "2024-03-03 22:40:17,966 DEBUG [pool-2-thread-1] index.AbstractIndexer$IndexerThread (AbstractIndexer.java:175) - lenta/0.jsonl: 32768 docs added.\n",
            "2024-03-03 22:40:20,467 DEBUG [pool-2-thread-5] index.AbstractIndexer$IndexerThread (AbstractIndexer.java:175) - lenta/65536.jsonl: 32768 docs added.\n",
            "2024-03-03 22:40:20,470 WARN  [main] index.AbstractIndexer (AbstractIndexer.java:282) - Unexpected difference between number of indexed documents (124684) and index maxDoc (85536).\n",
            "2024-03-03 22:40:35,264 INFO  [main] index.AbstractIndexer (AbstractIndexer.java:306) - Indexing Complete! 124,684 documents indexed\n",
            "2024-03-03 22:40:35,265 INFO  [main] index.AbstractIndexer (AbstractIndexer.java:307) - ============ Final Counter Values ============\n",
            "2024-03-03 22:40:35,265 INFO  [main] index.AbstractIndexer (AbstractIndexer.java:308) - indexed:           85,536\n",
            "2024-03-03 22:40:35,265 INFO  [main] index.AbstractIndexer (AbstractIndexer.java:309) - unindexable:            0\n",
            "2024-03-03 22:40:35,266 INFO  [main] index.AbstractIndexer (AbstractIndexer.java:310) - empty:                  0\n",
            "2024-03-03 22:40:35,266 INFO  [main] index.AbstractIndexer (AbstractIndexer.java:311) - skipped:                0\n",
            "2024-03-03 22:40:35,266 INFO  [main] index.AbstractIndexer (AbstractIndexer.java:312) - errors:                 0\n",
            "2024-03-03 22:40:35,287 INFO  [main] index.AbstractIndexer (AbstractIndexer.java:315) - Total 124,684 documents indexed in 00:01:23\n"
          ]
        }
      ],
      "source": [
        "!python -m pyserini.index.lucene -collection JsonCollection -generator DefaultLuceneDocumentGenerator \\\n",
        " -threads 16 -input {COLLECTION_DIR} \\\n",
        " -index {INDEX_DIR} -storePositions -storeDocvectors -storeRaw"
      ]
    },
    {
      "cell_type": "markdown",
      "metadata": {
        "id": "wcG1skadLa7n"
      },
      "source": [
        "### Используем поисковый индекс"
      ]
    },
    {
      "cell_type": "markdown",
      "metadata": {
        "id": "Kkv6vU1XOZWb"
      },
      "source": [
        "#### BM-25"
      ]
    },
    {
      "cell_type": "code",
      "execution_count": 23,
      "metadata": {
        "id": "EVpK0wrxKiEZ",
        "colab": {
          "base_uri": "https://localhost:8080/"
        },
        "outputId": "8cc3e19a-650d-4cf3-d17e-51a20f629526"
      },
      "outputs": [
        {
          "output_type": "stream",
          "name": "stdout",
          "text": [
            "{\n",
            "  \"id\" : 331463,\n",
            "  \"contents\" : \"Группа хакеров пообещала возродить Usenet-поисковик Newzbin. Соответствующее письмо было разослано зарегистрированным пользователям сервиса, пишет TorrentFreak. В письме группа хакеров, называющая себя \\\"Team R Dogs\\\", сообщила, что ей удалось получить большую часть исходного кода и баз данных ресурса. Ранее бывший редактор поисковика под ником DeepSharer сообщил в своем блоге, что, по слухам, исходный код действительно был выкраден. С помощью украденных файлов \\\"Team R Dogs\\\" надеется запустить новый поисковик под именем Newzbin 2. При этом хакер под псевдонимом Mr. White заявил: \\\"Мы слишком сильно любили [этот ресурс], чтобы позволить ему умереть\\\". Он также сообщил, что поисковик заработает в ближайшее время. В марте 2010 года британский суд постановил, что поисковик Newzbin нарушает авторские права. Основанием для принятия такого решения стала жалоба, поданная Ассоциацией кинопроизводителей (MPA). Эта организация защищает права крупнейших киностудий, в числе которых 20th Century Fox, Universal Studios, Warner Bros., Paramount, Disney и Columbia Pictures. Суд приказал Newzbin прекратить индексировать фильмы и телепрограммы, права на которые принадлежат членам MPA. Также поисковик обязали оплатить судебные издержки ассоциации, что привело к закрытию ресурса. Как пишет DeepSharer, предварительная сумма штрафа без постановления о нанесенном ущербе составляет 230 тысяч фунтов.\",\n",
            "  \"tag\" : \"Все\",\n",
            "  \"date\" : \"24-05-2010\"\n",
            "}\n",
            "{\n",
            "  \"id\" : 335123,\n",
            "  \"contents\" : \"На видеохостинге YouTube появится реклама игорных сайтов, сообщается в интернет издании Gambling Online. Это стало известно после того, как поисковик Google, которому принадлежит видеохостинг, объявил о послаблении правил размещения рекламы. Предполагается, что игорные серверы кроме YouTube можно будет рекламировать на специализированных каналах и видеостраницах. Каждому, кто захочет посмотреть рекламу, придется подтвердить, что он уже совершеннолетний. Первым сервером, чью рекламу пользователи увидят в интернете, станет Ladbrokes. Ожидается, что в ближайшем времени его примеру последуют и другие игорные сайты. Представители Google заявили, что обсуждали данное решение с различными брендами и агентствами на протяжении двух лет. Они также заверили, что несовершеннолетние пользователи не смогут посмотреть рекламу. Google разрешил использовать свой поисковик для рекламы игорных компаний в 2008 году.\",\n",
            "  \"tag\" : \"Все\",\n",
            "  \"date\" : \"22-06-2010\"\n",
            "}\n",
            "{\n",
            "  \"id\" : 91941,\n",
            "  \"contents\" : \"С понедельника интернет-портал @Mail.ru запустил новый сервис - в поисковой системе, основу которой составляет механизм компании Google, заработал поиск с учетом морфологии русского языка. Сам по себе поисковик Google не обладает такой способностью - он ищет слово только в той форме, в которой оно содержится в тексте запроса. Например, если слово-запрос было написано в именительном падеже, то же самое слово в других падежах поисковик уже не находил. Теперь этот недостаток исправили. Другие русскоязычные поисковые сайты также используют морфологический поик, однако они ищут в первую очередь в Рунете, на долю которого приходится всего около восьми процентов всех интернет-страниц. При этом, как отмечается в пресс-релизе @Mail.ru, опцию \\\"с учетом морфологии\\\" можно отключить, сузив, таким образом, область поиска.\",\n",
            "  \"tag\" : \"Все\",\n",
            "  \"date\" : \"19-04-2004\"\n",
            "}\n",
            "{\n",
            "  \"id\" : 110783,\n",
            "  \"contents\" : \"В Рунете открылся первый поисковик для инвесторов, сообщает РИА \\\"Новости\\\". По мнению создателей, \\\"Поисковик инвестора\\\" призван помочь покупателю быстро сориентироваться среди увеличивающегося потока предложений на рынке инвестиций. \\\"В Рунете содержится более 15 тысяч инвестиционных предложений. Поисковая машина осуществляет поиск по 30 сайтам, которые представляют информацию об инвестиционных проектах, продаже и купле бизнеса, - заявил один из разработчиков поисковика IT-директор компании Республикаидей.ру Артем Мочалов. - Сайты, по которым осуществляется поиск, отбираются вручную. Поиск осуществляется по заголовкам коммерческих предложений и по их тексту\\\". По словам Мочалова, результаты поиска могут сортироваться по цене бизнеса и по региону, в котором он находится. \\\"База данных обновляется каждые 30 минут, что позволяет иметь максимально оперативную информацию о предлагаемом бизнесе\\\", - добавил он. Создатели выразили надежду, что запуск сервиса будет способствовать становлению российского рынка торговли бизнесом.\",\n",
            "  \"tag\" : \"Все\",\n",
            "  \"date\" : \"21-01-2005\"\n",
            "}\n",
            "{\n",
            "  \"id\" : 336721,\n",
            "  \"contents\" : \"Кадровое агентство Arthur Hunt Group начало подбор персонала в команду разработки национального поисковика, пишут \\\"Ведомости\\\". со ссылкой на трех менеджеров, близких к компаниям \\\"Яндекс\\\", Mail.ru и Rambler. Кандидатов переманивают, в частности, из этих трех компаний. Проект, стоимость которого оценивается в 100 миллионов долларов, поддерживается государством. На подбор команды отведено три месяца, а сам поисковик должен заработать к концу 2011 года. После прохождения собеседования будущий работник встречается с представителями инвестиционной группы Global Investments. В самой Global Investments утверждают, что ничего не знают о проекте. В марте 2010 года о проекте национального поисковика уже сообщало издание \\\"РБК-daily\\\". По данным издания, автором идеи являлся замглавы президентской администрации Владислав Сурков, а финансировать проект должны были только российские инвесторы. Газета писала, что проект передан в ведение главы Минкомсвязи Игоря Щеголева, а исполнителем должен был стать \\\"Ростелеком\\\", также работающий над порталом госуслуг. Предполагалось, что такой поисковик должен стать более ориентированным на государственные нужды, чем остальные.\",\n",
            "  \"tag\" : \"Все\",\n",
            "  \"date\" : \"05-07-2010\"\n",
            "}\n"
          ]
        }
      ],
      "source": [
        "searcher = LuceneSearcher(INDEX_DIR)\n",
        "searcher.set_bm25()\n",
        "hits = searcher.search('Поисковик', k=5)\n",
        "\n",
        "for i in range(len(hits)):\n",
        "    doc = searcher.doc(hits[i].docid)\n",
        "    print(doc.raw())"
      ]
    },
    {
      "cell_type": "markdown",
      "metadata": {
        "id": "xhcL0CgyOt0M"
      },
      "source": [
        "#### QLD"
      ]
    },
    {
      "cell_type": "code",
      "execution_count": 21,
      "metadata": {
        "id": "KizfqcYML5Zl",
        "colab": {
          "base_uri": "https://localhost:8080/"
        },
        "outputId": "fc4361aa-95bd-409e-efad-255782ac8d08"
      },
      "outputs": [
        {
          "output_type": "stream",
          "name": "stdout",
          "text": [
            "{\n",
            "  \"id\" : 331463,\n",
            "  \"contents\" : \"Группа хакеров пообещала возродить Usenet-поисковик Newzbin. Соответствующее письмо было разослано зарегистрированным пользователям сервиса, пишет TorrentFreak. В письме группа хакеров, называющая себя \\\"Team R Dogs\\\", сообщила, что ей удалось получить большую часть исходного кода и баз данных ресурса. Ранее бывший редактор поисковика под ником DeepSharer сообщил в своем блоге, что, по слухам, исходный код действительно был выкраден. С помощью украденных файлов \\\"Team R Dogs\\\" надеется запустить новый поисковик под именем Newzbin 2. При этом хакер под псевдонимом Mr. White заявил: \\\"Мы слишком сильно любили [этот ресурс], чтобы позволить ему умереть\\\". Он также сообщил, что поисковик заработает в ближайшее время. В марте 2010 года британский суд постановил, что поисковик Newzbin нарушает авторские права. Основанием для принятия такого решения стала жалоба, поданная Ассоциацией кинопроизводителей (MPA). Эта организация защищает права крупнейших киностудий, в числе которых 20th Century Fox, Universal Studios, Warner Bros., Paramount, Disney и Columbia Pictures. Суд приказал Newzbin прекратить индексировать фильмы и телепрограммы, права на которые принадлежат членам MPA. Также поисковик обязали оплатить судебные издержки ассоциации, что привело к закрытию ресурса. Как пишет DeepSharer, предварительная сумма штрафа без постановления о нанесенном ущербе составляет 230 тысяч фунтов.\",\n",
            "  \"tag\" : \"Все\",\n",
            "  \"date\" : \"24-05-2010\"\n",
            "}\n",
            "{\n",
            "  \"id\" : 335123,\n",
            "  \"contents\" : \"На видеохостинге YouTube появится реклама игорных сайтов, сообщается в интернет издании Gambling Online. Это стало известно после того, как поисковик Google, которому принадлежит видеохостинг, объявил о послаблении правил размещения рекламы. Предполагается, что игорные серверы кроме YouTube можно будет рекламировать на специализированных каналах и видеостраницах. Каждому, кто захочет посмотреть рекламу, придется подтвердить, что он уже совершеннолетний. Первым сервером, чью рекламу пользователи увидят в интернете, станет Ladbrokes. Ожидается, что в ближайшем времени его примеру последуют и другие игорные сайты. Представители Google заявили, что обсуждали данное решение с различными брендами и агентствами на протяжении двух лет. Они также заверили, что несовершеннолетние пользователи не смогут посмотреть рекламу. Google разрешил использовать свой поисковик для рекламы игорных компаний в 2008 году.\",\n",
            "  \"tag\" : \"Все\",\n",
            "  \"date\" : \"22-06-2010\"\n",
            "}\n",
            "{\n",
            "  \"id\" : 91941,\n",
            "  \"contents\" : \"С понедельника интернет-портал @Mail.ru запустил новый сервис - в поисковой системе, основу которой составляет механизм компании Google, заработал поиск с учетом морфологии русского языка. Сам по себе поисковик Google не обладает такой способностью - он ищет слово только в той форме, в которой оно содержится в тексте запроса. Например, если слово-запрос было написано в именительном падеже, то же самое слово в других падежах поисковик уже не находил. Теперь этот недостаток исправили. Другие русскоязычные поисковые сайты также используют морфологический поик, однако они ищут в первую очередь в Рунете, на долю которого приходится всего около восьми процентов всех интернет-страниц. При этом, как отмечается в пресс-релизе @Mail.ru, опцию \\\"с учетом морфологии\\\" можно отключить, сузив, таким образом, область поиска.\",\n",
            "  \"tag\" : \"Все\",\n",
            "  \"date\" : \"19-04-2004\"\n",
            "}\n",
            "{\n",
            "  \"id\" : 110783,\n",
            "  \"contents\" : \"В Рунете открылся первый поисковик для инвесторов, сообщает РИА \\\"Новости\\\". По мнению создателей, \\\"Поисковик инвестора\\\" призван помочь покупателю быстро сориентироваться среди увеличивающегося потока предложений на рынке инвестиций. \\\"В Рунете содержится более 15 тысяч инвестиционных предложений. Поисковая машина осуществляет поиск по 30 сайтам, которые представляют информацию об инвестиционных проектах, продаже и купле бизнеса, - заявил один из разработчиков поисковика IT-директор компании Республикаидей.ру Артем Мочалов. - Сайты, по которым осуществляется поиск, отбираются вручную. Поиск осуществляется по заголовкам коммерческих предложений и по их тексту\\\". По словам Мочалова, результаты поиска могут сортироваться по цене бизнеса и по региону, в котором он находится. \\\"База данных обновляется каждые 30 минут, что позволяет иметь максимально оперативную информацию о предлагаемом бизнесе\\\", - добавил он. Создатели выразили надежду, что запуск сервиса будет способствовать становлению российского рынка торговли бизнесом.\",\n",
            "  \"tag\" : \"Все\",\n",
            "  \"date\" : \"21-01-2005\"\n",
            "}\n",
            "{\n",
            "  \"id\" : 336721,\n",
            "  \"contents\" : \"Кадровое агентство Arthur Hunt Group начало подбор персонала в команду разработки национального поисковика, пишут \\\"Ведомости\\\". со ссылкой на трех менеджеров, близких к компаниям \\\"Яндекс\\\", Mail.ru и Rambler. Кандидатов переманивают, в частности, из этих трех компаний. Проект, стоимость которого оценивается в 100 миллионов долларов, поддерживается государством. На подбор команды отведено три месяца, а сам поисковик должен заработать к концу 2011 года. После прохождения собеседования будущий работник встречается с представителями инвестиционной группы Global Investments. В самой Global Investments утверждают, что ничего не знают о проекте. В марте 2010 года о проекте национального поисковика уже сообщало издание \\\"РБК-daily\\\". По данным издания, автором идеи являлся замглавы президентской администрации Владислав Сурков, а финансировать проект должны были только российские инвесторы. Газета писала, что проект передан в ведение главы Минкомсвязи Игоря Щеголева, а исполнителем должен был стать \\\"Ростелеком\\\", также работающий над порталом госуслуг. Предполагалось, что такой поисковик должен стать более ориентированным на государственные нужды, чем остальные.\",\n",
            "  \"tag\" : \"Все\",\n",
            "  \"date\" : \"05-07-2010\"\n",
            "}\n"
          ]
        }
      ],
      "source": [
        "searcher = LuceneSearcher(INDEX_DIR)\n",
        "searcher.set_qld()\n",
        "hits = searcher.search('Поисковик', k=5)\n",
        "\n",
        "for i in range(len(hits)):\n",
        "    doc = searcher.doc(hits[i].docid)\n",
        "    print(doc.raw())"
      ]
    },
    {
      "cell_type": "markdown",
      "metadata": {
        "id": "rCZXCP5SPgT9"
      },
      "source": [
        "#### RM3"
      ]
    },
    {
      "cell_type": "code",
      "execution_count": 22,
      "metadata": {
        "id": "2Y80Rw8uNNrr",
        "colab": {
          "base_uri": "https://localhost:8080/"
        },
        "outputId": "1de5c360-994b-4884-cdb2-cb02c72f3b84"
      },
      "outputs": [
        {
          "output_type": "stream",
          "name": "stdout",
          "text": [
            "{\n",
            "  \"id\" : 338651,\n",
            "  \"contents\" : \"Китайский поисковик Baidu разрабатывает собственную мобильную ОС с открытым исходным кодом. Об этом пишет InformationWeek со ссылкой на публикации в китайских газетах. C помощью новинки Baidu рассчитывает укрепить свои позиции на рынке мобильного поиска в стране. Также она сможет составить конкуренцию мобильной ОС Google Android, которая является одной из самых популярных мобильных платформ в мире. Сообщается, что разработкой ОС занимаются бывшие сотрудники Google, которые покинули китайское представительство американской компании после того, как та прекратила осуществлять цензуру поисковых запросов в Китае. Baidu является самой популярной поисковой системой в Китае. Сообщается, что ей принадлежит более 70 процентов рынка поисковых запросов в стране. При этом по количеству мобильных поисковых запросов Baidu находится приблизительно на одном уровне с Google - на эти поисковики приходится примерно по четверти от общего числа мобильного поиска. В собственной ОС Baidu сможет использовать свой поисковый механизм \\\"по умолчанию\\\", а также встроить возможности поиска непосредственно в ОС. В случае, если решение Baidu будет востребовано у производителей устройств, доля поисковика Baidu на рынке мобильного поиска может вырасти. Отметим, что в ходе последнего конференц-звонка, посвященного финансовым показателям Google, представители компании сообщили, что каждый день по всему миру активируется более 160 тысяч смартфонов с Android. Ранее представители Google заявляли, что поисковик продвигает мобильную платформу прежде всего как канал для большего распространения устройств с возможностью работы в Сети.\",\n",
            "  \"tag\" : \"Все\",\n",
            "  \"date\" : \"20-07-2010\"\n",
            "}\n",
            "{\n",
            "  \"id\" : 335164,\n",
            "  \"contents\" : \"Google до конца 2010 года предоставит пользователям возможность скачивать музыку через одноименный поисковик. Об этом пишет Wall Street Journal со ссылкой на анонимные источники, знакомые с переговорами между Google и представителями музыкальной отрасли. В 2011 году компания планирует предпринять следующий шаг в развитии собственного музыкального сервиса. Ожидается, что она представит сервис онлайн-музыки по подписке, наподобие Last.fm. По словам источников WSJ, в настоящий момент компания ведет переговоры с правообладателями. Сообщается, что Google предлагает музыкальным компаниям возможность открыть доступ к контенту устройствам на базе мобильной ОС Android. Подобная инициатива Google может составить конкуренцию сервису Apple iTunes. В октябре 2009 года поисковик запустил музыкальный поиск на территории США. Сервис, разработанный совместно с рядом партнеров, в том числе интернет-радиостанцией Pandora и музыкальными сервисами iLike и Rhapsody, позволяет искать композиции по именам исполнителей и фрагментам текста. Google обещала в дальнейшем запустить этот сервис по всему миру. Точные сроки не сообщались. В России музыкальный поиск Google пока не работает.\",\n",
            "  \"tag\" : \"Все\",\n",
            "  \"date\" : \"22-06-2010\"\n",
            "}\n",
            "{\n",
            "  \"id\" : 344342,\n",
            "  \"contents\" : \"Поисковый бизнес Google стал предметом антимонопольного разбирательства в США, пишет Search Engine Land со ссылкой на анонимный источник. Представитель Google Дон Харрисон (Don Harrison) подтвердил информацию о проведении разбирательства в официальном блоге компании. Расследование проводится с июля 2010 года генеральным прокурором штата Техас Грегом Эбботом (Greg Abbott). Оно было начато на основании жалоб трех компаний (Foundem, TradeComet и myTriggers), которые обвинили Google в некорректной работе его поискового механизма. В частности, они обвиняют самый популярный поисковик в мире в том, что тот намеренно манипулировал выдачей, что приводило к дискриминации их сайтов. Харрисон сообщил, что Google готов к сотрудничеству с властями. Также представитель Google рассказал в блоге, что компания развивает свой поисковый бизнес в интересах пользователей, а не сайтов. И что ситуации, когда некоторые компании будут недовольны положением своего сайта в поисковой выдаче, неизбежны. Он рассказал, что прокурор Техаса уже запросил у поисковика информацию по искам трех компаний. При этом представитель Google сообщил, что за этими компаниями (две из которых являются американскими, а одна - британской) стоит Microsoft. В частности, интересы американских компаний в суде представляли юристы, связанные с Microsoft. Британская Foundem, как оказалось, имеет финансовые связи с Microsoft через организацию ICOMP. Отметим, что в феврале 2010 года антимонопольное разбирательство против Google начала и Еврокомиссия. Поисковик подозревают в злоупотреблении доминирующим положением на рынке.\",\n",
            "  \"tag\" : \"Все\",\n",
            "  \"date\" : \"06-09-2010\"\n",
            "}\n",
            "{\n",
            "  \"id\" : 335123,\n",
            "  \"contents\" : \"На видеохостинге YouTube появится реклама игорных сайтов, сообщается в интернет издании Gambling Online. Это стало известно после того, как поисковик Google, которому принадлежит видеохостинг, объявил о послаблении правил размещения рекламы. Предполагается, что игорные серверы кроме YouTube можно будет рекламировать на специализированных каналах и видеостраницах. Каждому, кто захочет посмотреть рекламу, придется подтвердить, что он уже совершеннолетний. Первым сервером, чью рекламу пользователи увидят в интернете, станет Ladbrokes. Ожидается, что в ближайшем времени его примеру последуют и другие игорные сайты. Представители Google заявили, что обсуждали данное решение с различными брендами и агентствами на протяжении двух лет. Они также заверили, что несовершеннолетние пользователи не смогут посмотреть рекламу. Google разрешил использовать свой поисковик для рекламы игорных компаний в 2008 году.\",\n",
            "  \"tag\" : \"Все\",\n",
            "  \"date\" : \"22-06-2010\"\n",
            "}\n",
            "{\n",
            "  \"id\" : 230993,\n",
            "  \"contents\" : \"Бельгийские газеты требуют от интернет-гиганта Google выплатить им 49,2 миллиона евро, сообщает The Guardian. Организация Copiepresse, которая представляет интересы бельгийских периодических изданий на немецком и французском языках, подала иск к Google с требованием выплатить эти средства в качестве компенсации за незаконное использование материалов газет и журналов новостным поисковиком Google News. По заявлению представителей Copiepresse, сумма иска была рассчитана профессором Бельгийского свободного университета (Université Libre de Bruxelles). Тем не менее, организация заранее согласилась создать специальную комиссию, которая даст независимую оценку понесенного газетами ущерба, в случае если Google будет оспаривать сумму. В феврале 2007 года брюссельский суд первой инстанции вынес определение в пользу газет, постановив, что поисковик не мог без разрешения правообладателей использовать материалы газет, и потребовал, чтобы Google убрал со своего сайта и из кэша ссылки на бельгийские издания. Представители интернет-компании обжаловали это решение и ожидают нового судебного разбирательства в высшей инстанции. Руководство Google считает, что не наносит ущерба газетам, размещая на своем сайте ссылки на опубликованные в Сети материалы, сопровождая их лишь заголовками и короткими выдержками из текста. Ведь, по словам представителя компании, для того чтобы прочесть материал, пользователю необходимо перейти на сайт издания. Таким образом, по мнению сотрудников Google, новостной поисковик лишь помогает газетам привлечь большее число читателей.\",\n",
            "  \"tag\" : \"Все\",\n",
            "  \"date\" : \"28-05-2008\"\n",
            "}\n"
          ]
        }
      ],
      "source": [
        "searcher = LuceneSearcher(INDEX_DIR)\n",
        "searcher.set_rm3()\n",
        "hits = searcher.search('Поисковик', k=5)\n",
        "\n",
        "for i in range(len(hits)):\n",
        "    doc = searcher.doc(hits[i].docid)\n",
        "    print(doc.raw())"
      ]
    },
    {
      "cell_type": "markdown",
      "source": [
        "# Обучение ранжирования"
      ],
      "metadata": {
        "id": "rcNFW1Yg3PiV"
      }
    },
    {
      "cell_type": "markdown",
      "source": [
        "## Загрузка датасета"
      ],
      "metadata": {
        "id": "osnOLqFY5fmN"
      }
    },
    {
      "cell_type": "code",
      "source": [
        "DATA_PATH = 'data/mslr/Fold1'\n",
        "(X_train, y_train, qid_train) = load_svmlight_file(\n",
        "    os.path.join(DATA_PATH, 'train.txt'),\n",
        "    dtype=np.float32,\n",
        "    zero_based=False,\n",
        "    query_id=True)\n",
        "(X_test, y_test, qid_test) = load_svmlight_file(\n",
        "    os.path.join(DATA_PATH, 'test.txt'),\n",
        "    dtype=np.float32,\n",
        "    zero_based=False,\n",
        "    query_id=True)\n",
        "\n",
        "train_size = 50000 # set -1 to all data\n",
        "X_train = X_train.toarray()[:train_size]\n",
        "y_train = y_train[:train_size]\n",
        "qid_train = qid_train[:train_size]\n",
        "\n",
        "test_size = 1000 # set -1 to all data\n",
        "X_test = X_test.toarray()[:test_size]\n",
        "y_test = y_test[:test_size]\n",
        "qid_test = qid_test[:test_size]"
      ],
      "metadata": {
        "id": "f8NQMLyp5k2E"
      },
      "execution_count": 24,
      "outputs": []
    },
    {
      "cell_type": "code",
      "source": [
        "ids = np.random.RandomState(777).randint(0, len(X_train), size=5)\n",
        "(X_train[ids][:, :6], y_train[ids], qid_train[ids])"
      ],
      "metadata": {
        "colab": {
          "base_uri": "https://localhost:8080/"
        },
        "id": "6TcUKK2G5w6z",
        "outputId": "4bf4b65f-80c5-4561-dcef-d293a75b76a3"
      },
      "execution_count": 25,
      "outputs": [
        {
          "output_type": "execute_result",
          "data": {
            "text/plain": [
              "(array([[2.      , 0.      , 2.      , 0.      , 2.      , 1.      ],\n",
              "        [1.      , 0.      , 1.      , 0.      , 1.      , 1.      ],\n",
              "        [2.      , 0.      , 0.      , 0.      , 2.      , 0.666667],\n",
              "        [4.      , 0.      , 4.      , 2.      , 4.      , 0.8     ],\n",
              "        [1.      , 0.      , 1.      , 1.      , 1.      , 1.      ]],\n",
              "       dtype=float32),\n",
              " array([0., 1., 0., 0., 2.]),\n",
              " array([6376, 2086, 5326, 4801, 3526]))"
            ]
          },
          "metadata": {},
          "execution_count": 25
        }
      ]
    },
    {
      "cell_type": "markdown",
      "source": [
        "## Определение модели"
      ],
      "metadata": {
        "id": "3JU5xhd36lEM"
      }
    },
    {
      "cell_type": "code",
      "source": [
        "train_request = TrainRequest.random_forest()\n",
        "params = train_request.params\n",
        "params.num_trees = 200\n",
        "params.feature_sampling_rate = 0.5\n",
        "params.instance_sampling_rate = 0.5\n",
        "\n",
        "params.quiet = True\n",
        "params.seed = 777"
      ],
      "metadata": {
        "id": "UNuxEkQ_6pD1"
      },
      "execution_count": 26,
      "outputs": []
    },
    {
      "cell_type": "code",
      "source": [
        "dataset_train = CDataset.from_numpy(X_train, y_train, qid_train)\n",
        "dataset_test = CDataset.from_numpy(X_test, y_test, qid_test)\n",
        "\n",
        "train_queries = sorted(dataset_train.queries())\n",
        "test_queries = sorted(dataset_test.queries())\n",
        "\n",
        "train = dataset_train.subsample_queries(train_queries)\n",
        "test = dataset_test.subsample_queries(test_queries)"
      ],
      "metadata": {
        "id": "rOwF_-9z6_zM"
      },
      "execution_count": 27,
      "outputs": []
    },
    {
      "cell_type": "code",
      "source": [
        "model = train.train_model(train_request)"
      ],
      "metadata": {
        "id": "M7pCiPlr7FL1"
      },
      "execution_count": 28,
      "outputs": []
    },
    {
      "cell_type": "code",
      "source": [
        "test.evaluate(model, \"NDCG@5\")"
      ],
      "metadata": {
        "colab": {
          "base_uri": "https://localhost:8080/"
        },
        "id": "ffB4860W7J0U",
        "outputId": "beb75f64-1759-44f1-8762-915d87b35717"
      },
      "execution_count": 29,
      "outputs": [
        {
          "output_type": "execute_result",
          "data": {
            "text/plain": [
              "{'28': 0.6333513308383866,\n",
              " '58': 0.2178022835137004,\n",
              " '88': 0.4439731298514547,\n",
              " '43': 0.49835882843314194,\n",
              " '13': 0.18459095709791615,\n",
              " '118': 0.5334141272771329,\n",
              " '103': 0.38701867902589504,\n",
              " '73': 0.15098485154804625}"
            ]
          },
          "metadata": {},
          "execution_count": 29
        }
      ]
    }
  ],
  "metadata": {
    "celltoolbar": "Slideshow",
    "colab": {
      "provenance": []
    },
    "kernelspec": {
      "display_name": "Python 3",
      "language": "python",
      "name": "python3"
    },
    "language_info": {
      "codemirror_mode": {
        "name": "ipython",
        "version": 3
      },
      "file_extension": ".py",
      "mimetype": "text/x-python",
      "name": "python",
      "nbconvert_exporter": "python",
      "pygments_lexer": "ipython3",
      "version": "3.7.3"
    },
    "widgets": {
      "application/vnd.jupyter.widget-state+json": {
        "f7d51e1fc3e84f519b3a773a7807dfee": {
          "model_module": "@jupyter-widgets/controls",
          "model_name": "HBoxModel",
          "model_module_version": "1.5.0",
          "state": {
            "_dom_classes": [],
            "_model_module": "@jupyter-widgets/controls",
            "_model_module_version": "1.5.0",
            "_model_name": "HBoxModel",
            "_view_count": null,
            "_view_module": "@jupyter-widgets/controls",
            "_view_module_version": "1.5.0",
            "_view_name": "HBoxView",
            "box_style": "",
            "children": [
              "IPY_MODEL_1f9e6160a9ff419990d66fb7ea36a57d",
              "IPY_MODEL_479a754919f14a28b0a6634142805e5e",
              "IPY_MODEL_c4720e422efe4766a7aeb9009ec9d7dd"
            ],
            "layout": "IPY_MODEL_58ee9558ce614193b7f124105e8fd5b2"
          }
        },
        "1f9e6160a9ff419990d66fb7ea36a57d": {
          "model_module": "@jupyter-widgets/controls",
          "model_name": "HTMLModel",
          "model_module_version": "1.5.0",
          "state": {
            "_dom_classes": [],
            "_model_module": "@jupyter-widgets/controls",
            "_model_module_version": "1.5.0",
            "_model_name": "HTMLModel",
            "_view_count": null,
            "_view_module": "@jupyter-widgets/controls",
            "_view_module_version": "1.5.0",
            "_view_name": "HTMLView",
            "description": "",
            "description_tooltip": null,
            "layout": "IPY_MODEL_496ba32d8a4546b68cfecd4af370e7b0",
            "placeholder": "​",
            "style": "IPY_MODEL_de9b6e54f7dc4c44a2b7bf85279facbe",
            "value": "100%"
          }
        },
        "479a754919f14a28b0a6634142805e5e": {
          "model_module": "@jupyter-widgets/controls",
          "model_name": "FloatProgressModel",
          "model_module_version": "1.5.0",
          "state": {
            "_dom_classes": [],
            "_model_module": "@jupyter-widgets/controls",
            "_model_module_version": "1.5.0",
            "_model_name": "FloatProgressModel",
            "_view_count": null,
            "_view_module": "@jupyter-widgets/controls",
            "_view_module_version": "1.5.0",
            "_view_name": "ProgressView",
            "bar_style": "success",
            "description": "",
            "description_tooltip": null,
            "layout": "IPY_MODEL_7d14f02e3cfa47ffbd574fbad420d0dc",
            "max": 27,
            "min": 0,
            "orientation": "horizontal",
            "style": "IPY_MODEL_380642f4d56145cdbe810f44ff12d63c",
            "value": 27
          }
        },
        "c4720e422efe4766a7aeb9009ec9d7dd": {
          "model_module": "@jupyter-widgets/controls",
          "model_name": "HTMLModel",
          "model_module_version": "1.5.0",
          "state": {
            "_dom_classes": [],
            "_model_module": "@jupyter-widgets/controls",
            "_model_module_version": "1.5.0",
            "_model_name": "HTMLModel",
            "_view_count": null,
            "_view_module": "@jupyter-widgets/controls",
            "_view_module_version": "1.5.0",
            "_view_name": "HTMLView",
            "description": "",
            "description_tooltip": null,
            "layout": "IPY_MODEL_cba30cd003b0475481f20c35853f4030",
            "placeholder": "​",
            "style": "IPY_MODEL_7e2ef0fc4376418eb2140c121441a517",
            "value": " 27/27 [00:28&lt;00:00,  1.04it/s]"
          }
        },
        "58ee9558ce614193b7f124105e8fd5b2": {
          "model_module": "@jupyter-widgets/base",
          "model_name": "LayoutModel",
          "model_module_version": "1.2.0",
          "state": {
            "_model_module": "@jupyter-widgets/base",
            "_model_module_version": "1.2.0",
            "_model_name": "LayoutModel",
            "_view_count": null,
            "_view_module": "@jupyter-widgets/base",
            "_view_module_version": "1.2.0",
            "_view_name": "LayoutView",
            "align_content": null,
            "align_items": null,
            "align_self": null,
            "border": null,
            "bottom": null,
            "display": null,
            "flex": null,
            "flex_flow": null,
            "grid_area": null,
            "grid_auto_columns": null,
            "grid_auto_flow": null,
            "grid_auto_rows": null,
            "grid_column": null,
            "grid_gap": null,
            "grid_row": null,
            "grid_template_areas": null,
            "grid_template_columns": null,
            "grid_template_rows": null,
            "height": null,
            "justify_content": null,
            "justify_items": null,
            "left": null,
            "margin": null,
            "max_height": null,
            "max_width": null,
            "min_height": null,
            "min_width": null,
            "object_fit": null,
            "object_position": null,
            "order": null,
            "overflow": null,
            "overflow_x": null,
            "overflow_y": null,
            "padding": null,
            "right": null,
            "top": null,
            "visibility": null,
            "width": null
          }
        },
        "496ba32d8a4546b68cfecd4af370e7b0": {
          "model_module": "@jupyter-widgets/base",
          "model_name": "LayoutModel",
          "model_module_version": "1.2.0",
          "state": {
            "_model_module": "@jupyter-widgets/base",
            "_model_module_version": "1.2.0",
            "_model_name": "LayoutModel",
            "_view_count": null,
            "_view_module": "@jupyter-widgets/base",
            "_view_module_version": "1.2.0",
            "_view_name": "LayoutView",
            "align_content": null,
            "align_items": null,
            "align_self": null,
            "border": null,
            "bottom": null,
            "display": null,
            "flex": null,
            "flex_flow": null,
            "grid_area": null,
            "grid_auto_columns": null,
            "grid_auto_flow": null,
            "grid_auto_rows": null,
            "grid_column": null,
            "grid_gap": null,
            "grid_row": null,
            "grid_template_areas": null,
            "grid_template_columns": null,
            "grid_template_rows": null,
            "height": null,
            "justify_content": null,
            "justify_items": null,
            "left": null,
            "margin": null,
            "max_height": null,
            "max_width": null,
            "min_height": null,
            "min_width": null,
            "object_fit": null,
            "object_position": null,
            "order": null,
            "overflow": null,
            "overflow_x": null,
            "overflow_y": null,
            "padding": null,
            "right": null,
            "top": null,
            "visibility": null,
            "width": null
          }
        },
        "de9b6e54f7dc4c44a2b7bf85279facbe": {
          "model_module": "@jupyter-widgets/controls",
          "model_name": "DescriptionStyleModel",
          "model_module_version": "1.5.0",
          "state": {
            "_model_module": "@jupyter-widgets/controls",
            "_model_module_version": "1.5.0",
            "_model_name": "DescriptionStyleModel",
            "_view_count": null,
            "_view_module": "@jupyter-widgets/base",
            "_view_module_version": "1.2.0",
            "_view_name": "StyleView",
            "description_width": ""
          }
        },
        "7d14f02e3cfa47ffbd574fbad420d0dc": {
          "model_module": "@jupyter-widgets/base",
          "model_name": "LayoutModel",
          "model_module_version": "1.2.0",
          "state": {
            "_model_module": "@jupyter-widgets/base",
            "_model_module_version": "1.2.0",
            "_model_name": "LayoutModel",
            "_view_count": null,
            "_view_module": "@jupyter-widgets/base",
            "_view_module_version": "1.2.0",
            "_view_name": "LayoutView",
            "align_content": null,
            "align_items": null,
            "align_self": null,
            "border": null,
            "bottom": null,
            "display": null,
            "flex": null,
            "flex_flow": null,
            "grid_area": null,
            "grid_auto_columns": null,
            "grid_auto_flow": null,
            "grid_auto_rows": null,
            "grid_column": null,
            "grid_gap": null,
            "grid_row": null,
            "grid_template_areas": null,
            "grid_template_columns": null,
            "grid_template_rows": null,
            "height": null,
            "justify_content": null,
            "justify_items": null,
            "left": null,
            "margin": null,
            "max_height": null,
            "max_width": null,
            "min_height": null,
            "min_width": null,
            "object_fit": null,
            "object_position": null,
            "order": null,
            "overflow": null,
            "overflow_x": null,
            "overflow_y": null,
            "padding": null,
            "right": null,
            "top": null,
            "visibility": null,
            "width": null
          }
        },
        "380642f4d56145cdbe810f44ff12d63c": {
          "model_module": "@jupyter-widgets/controls",
          "model_name": "ProgressStyleModel",
          "model_module_version": "1.5.0",
          "state": {
            "_model_module": "@jupyter-widgets/controls",
            "_model_module_version": "1.5.0",
            "_model_name": "ProgressStyleModel",
            "_view_count": null,
            "_view_module": "@jupyter-widgets/base",
            "_view_module_version": "1.2.0",
            "_view_name": "StyleView",
            "bar_color": null,
            "description_width": ""
          }
        },
        "cba30cd003b0475481f20c35853f4030": {
          "model_module": "@jupyter-widgets/base",
          "model_name": "LayoutModel",
          "model_module_version": "1.2.0",
          "state": {
            "_model_module": "@jupyter-widgets/base",
            "_model_module_version": "1.2.0",
            "_model_name": "LayoutModel",
            "_view_count": null,
            "_view_module": "@jupyter-widgets/base",
            "_view_module_version": "1.2.0",
            "_view_name": "LayoutView",
            "align_content": null,
            "align_items": null,
            "align_self": null,
            "border": null,
            "bottom": null,
            "display": null,
            "flex": null,
            "flex_flow": null,
            "grid_area": null,
            "grid_auto_columns": null,
            "grid_auto_flow": null,
            "grid_auto_rows": null,
            "grid_column": null,
            "grid_gap": null,
            "grid_row": null,
            "grid_template_areas": null,
            "grid_template_columns": null,
            "grid_template_rows": null,
            "height": null,
            "justify_content": null,
            "justify_items": null,
            "left": null,
            "margin": null,
            "max_height": null,
            "max_width": null,
            "min_height": null,
            "min_width": null,
            "object_fit": null,
            "object_position": null,
            "order": null,
            "overflow": null,
            "overflow_x": null,
            "overflow_y": null,
            "padding": null,
            "right": null,
            "top": null,
            "visibility": null,
            "width": null
          }
        },
        "7e2ef0fc4376418eb2140c121441a517": {
          "model_module": "@jupyter-widgets/controls",
          "model_name": "DescriptionStyleModel",
          "model_module_version": "1.5.0",
          "state": {
            "_model_module": "@jupyter-widgets/controls",
            "_model_module_version": "1.5.0",
            "_model_name": "DescriptionStyleModel",
            "_view_count": null,
            "_view_module": "@jupyter-widgets/base",
            "_view_module_version": "1.2.0",
            "_view_name": "StyleView",
            "description_width": ""
          }
        }
      }
    }
  },
  "nbformat": 4,
  "nbformat_minor": 0
}